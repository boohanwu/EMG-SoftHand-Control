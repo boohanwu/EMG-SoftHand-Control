{
 "cells": [
  {
   "attachments": {},
   "cell_type": "markdown",
   "metadata": {
    "collapsed": true,
    "pycharm": {
     "name": "#%% md\n"
    }
   },
   "source": [
    "# Demo EMG Signal Classification\n",
    "\n",
    "## 1. Data Preparation\n",
    "\n",
    "After obtaining signal into *.csv, which follows as format of each row for signal values of `n` channels at a certain time `t` with the first row as the header name:\n",
    "\n",
    "CH1,CH2,...,CH\\<N\\>\n",
    "\\<value11\\>,\\<value12\\>,...,\\<value1N\\>\n",
    "...\n",
    "\\<valueN1\\>,\\<valueN2\\>,...,\\<valueNN\\>\n",
    "\n",
    "In this example, we perform a classifier to classify 3 classes: `HandClose`, `HandOpen` and `Normal`. We can organize files into `train`, `validation`, and  `test` set. The `train` set is used to training classification model, `validation` set is used to validate trained model and help to find the best trained model during training process, while `test` set is present as secret set to evaluation the performance of trained model under the unknown data (the data which is not included into training process). The example of the dataset organization is stored in `data/classification_data`. In `data/classification_data`, the dataset has 3 main folders: `train`, `val`, `test`. In each main folder, each sub-folder contains signal for each classification label. In practice, the ratio of `train`/`val`/`test` is usually 90/5/5 or 80/10/10 or 70/15/15.\n",
    "\n",
    "As previous demo, we need to processing the data to clean and segments them into small parts."
   ]
  },
  {
   "attachments": {},
   "cell_type": "markdown",
   "metadata": {
    "collapsed": false
   },
   "source": [
    "Import packages"
   ]
  },
  {
   "cell_type": "code",
   "execution_count": 82,
   "metadata": {
    "collapsed": false,
    "pycharm": {
     "name": "#%%\n"
    }
   },
   "outputs": [],
   "source": [
    "from pathlib import Path\n",
    "import pandas as pd\n",
    "import matplotlib.pyplot as plt\n",
    "plt.style.use('seaborn-whitegrid')\n",
    "import numpy as np\n",
    "from filter import BandpassFilter1D, NotchFilter1D, LowpassFilter1D\n",
    "from processing import MeanShift1D, Detrend1D, Resample1D, Normalize1D\n",
    "from segment import SegmentND\n",
    "from feature_extraction import *\n",
    "%matplotlib inline\n",
    "from visualize import plot_confusion_matrix, display_model_performance\n",
    "import pickle as pk"
   ]
  },
  {
   "attachments": {},
   "cell_type": "markdown",
   "metadata": {
    "collapsed": false
   },
   "source": [
    "Processing functions"
   ]
  },
  {
   "cell_type": "code",
   "execution_count": 6,
   "metadata": {
    "collapsed": false,
    "pycharm": {
     "name": "#%%\n"
    }
   },
   "outputs": [],
   "source": [
    "# process signal of each channel\n",
    "def process_signal1d(x, raw_fs=1000, low_fs=1, high_fs=120, notch_fs=60, Q=20, window_size=250, step_size=50, target_fs=512):\n",
    "    \"\"\"\n",
    "    @param x: signal of a single channel\n",
    "    @param raw_fs: original sampling rate\n",
    "    @param low_fs: low cutoff frequency\n",
    "    @param high_fs: high cutoff frequency\n",
    "    @param notch_fs: notch cutoff frequency\n",
    "    @param Q: Q factor\n",
    "    @param window_size: windows size for detrending\n",
    "    @param step_size: step size for detrending\n",
    "    @param target_fs: target sampling rate for resampling step\n",
    "    \"\"\"\n",
    "    # mean-correct signal\n",
    "    x_processed = MeanShift1D.apply(x)\n",
    "    # rectify\n",
    "    x_processed = abs(x_processed)\n",
    "    # filtering noise\n",
    "    x_processed = LowpassFilter1D.apply(x_processed, low_fs, order=4, fs=raw_fs)\n",
    "    # x_processed = BandpassFilter1D.apply(x_processed, low_fs, high_fs, order=4, fs=raw_fs)\n",
    "    # x_processed = NotchFilter1D.apply(x_processed, notch_fs, Q=Q, fs=raw_fs)\n",
    "    # # detrend\n",
    "    # x_processed = Detrend1D.apply(x_processed, detrend_type='locreg', window_size=window_size, step_size=step_size)\n",
    "    # resample\n",
    "    # x_processed = Resample1D.apply(x_processed, raw_fs, target_fs)\n",
    "    # normalize\n",
    "    # x_processed = Normalize1D.apply(x_processed, norm_type='min_max')\n",
    "    return x_processed"
   ]
  },
  {
   "cell_type": "code",
   "execution_count": 7,
   "metadata": {
    "collapsed": false,
    "pycharm": {
     "name": "#%%\n"
    }
   },
   "outputs": [],
   "source": [
    "# process multi-channel signal\n",
    "def process_signalnd(x, raw_fs=1000, low_fs=1):\n",
    "    \"\"\"\n",
    "    @param x: signal of a single channel\n",
    "    @param raw_fs: original sampling rate\n",
    "    @param low_fs: low cutoff frequency\n",
    "    @param high_fs: high cutoff frequency\n",
    "    @param notch_fs: notch cutoff frequency\n",
    "    @param Q: Q factor\n",
    "    @param window_size: windows size for detrending\n",
    "    @param step_size: step size for detrending\n",
    "    @param target_fs: target sampling rate for resampling step\n",
    "    \"\"\"\n",
    "    num_channels = x.shape[1]\n",
    "    x_processed = np.array([])\n",
    "    for i in range(num_channels):\n",
    "        # process each channel\n",
    "        channel_processed = x[:, i]\n",
    "        # mean-correct signal\n",
    "        channel_processed = MeanShift1D.apply(channel_processed)\n",
    "        # rectify\n",
    "        channel_processed = abs(channel_processed)\n",
    "        # filtering noise\n",
    "        channel_processed = LowpassFilter1D.apply(channel_processed, low_fs, order=4, fs=raw_fs)\n",
    "        channel_processed = np.expand_dims(channel_processed, axis=1)\n",
    "        if i == 0:\n",
    "            x_processed = channel_processed\n",
    "            continue\n",
    "        x_processed = np.hstack((x_processed, channel_processed))\n",
    "    return x_processed"
   ]
  },
  {
   "attachments": {},
   "cell_type": "markdown",
   "metadata": {
    "collapsed": false,
    "pycharm": {
     "name": "#%% md\n"
    }
   },
   "source": [
    "Load data and segmentation."
   ]
  },
  {
   "cell_type": "code",
   "execution_count": 8,
   "metadata": {
    "collapsed": false,
    "pycharm": {
     "name": "#%%\n"
    }
   },
   "outputs": [
    {
     "name": "stdout",
     "output_type": "stream",
     "text": [
      "Number of train samples (X, Y) = (20160, 20160)\n",
      "Number of test samples  (X, Y) = (2240, 2240)\n"
     ]
    }
   ],
   "source": [
    "# parameters for clean data\n",
    "raw_fs = 1000\n",
    "# target_fs = 512\n",
    "low_fs = 10\n",
    "# high_fs = 400\n",
    "# notch_fs = 60\n",
    "# Q = 20\n",
    "# windows = 512 ##512 \n",
    "# steps = 50\n",
    "# segment parameters\n",
    "seg_window_size = 1000 #default:512\n",
    "seg_step_size = 50 #default:32\n",
    "# data root\n",
    "data_root = './data/0603_four-channel'\n",
    "root = Path(data_root)\n",
    "        \n",
    "\n",
    "data = {}\n",
    "label = {}\n",
    "for sub in root.iterdir():\n",
    "    data[sub.name] = [] # create list for `train`,`val`,`test data segments\n",
    "    label[sub.name] = [] # create list for label of data segments\n",
    "    for subsub in sub.iterdir():\n",
    "        if subsub.name == 'Relax':\n",
    "            y = 8   # set `Relax` class as 8\n",
    "        elif subsub.name == 'Hold':\n",
    "            y = 0\n",
    "        elif subsub.name == 'Open':\n",
    "            y = 1 \n",
    "        elif subsub.name == 'Scissor':\n",
    "            y = 2\n",
    "        elif subsub.name == 'Three':\n",
    "            y = 3\n",
    "        elif subsub.name == 'Four':\n",
    "            y = 4\n",
    "        elif subsub.name == 'Six':\n",
    "            y = 5\n",
    "        elif subsub.name == 'Seven':\n",
    "            y = 6\n",
    "        for filename in subsub.iterdir():\n",
    "            # load raw signal from file\n",
    "            emg_raw = pd.read_csv(str(filename)).values\n",
    "            # clean raw signal\n",
    "            emg_processed = process_signalnd(emg_raw, raw_fs, low_fs)\n",
    "            # segment signal\n",
    "            signal_segments = SegmentND.apply(emg_processed, seg_window_size, seg_step_size)\n",
    "            data[sub.name].extend(signal_segments)\n",
    "            label[sub.name].extend([y] * len(signal_segments))\n",
    "print('Number of train samples (X, Y) = ({}, {})'.format(len(data['train']), len(label['train'])))\n",
    "# print('Number of val samples   (X, Y) = ({}, {})'.format(len(data['val']), len(label['val'])))\n",
    "print('Number of test samples  (X, Y) = ({}, {})'.format(len(data['test']), len(label['test'])))"
   ]
  },
  {
   "attachments": {},
   "cell_type": "markdown",
   "metadata": {
    "collapsed": false
   },
   "source": [
    "## Feature extraction\n",
    "\n",
    "Before feeding data to train classifier, we need to extract feature. We use features as described in `demo_signal_feature_extraction.ipynb`.\n",
    "\n",
    "In this example, we will try to use the Time domain features: `Maximum Peak Value`, `Mean`, `Variance`, `Standarddeviation`, `Skewness`, `Kurtosis`, `Root Mean Square`. Because these features are multi-channel features with **2D** dimension, we need to flatten them into **1D**. Moreover, we also want to combine different features together by **Concatenating** or **Pooling**. Concatenting means the feature vectors are concatenated into one final feature vector. There are 2 common **Pooling** strategies for **Pooling**: **Average Pooling** and **Max/Min Pooling**. **Average Pooling** means the average values of features is computed as the final feature vector, while **Max/Min Pooling** means the max/min values among extracted feature as the final feature vector."
   ]
  },
  {
   "cell_type": "code",
   "execution_count": 9,
   "metadata": {
    "collapsed": false,
    "pycharm": {
     "name": "#%%\n"
    }
   },
   "outputs": [
    {
     "name": "stdout",
     "output_type": "stream",
     "text": [
      "please wait....\n",
      "test\n",
      "train\n",
      "Number of samples X[train]:  17294\n",
      "Number of samples X[test]:  1948\n"
     ]
    }
   ],
   "source": [
    "# process X\n",
    "X = {}\n",
    "Y = {}\n",
    "feature_windows_size = 1000  ##100 10\n",
    "concat = True\n",
    "avg_pool = False\n",
    "T1 = 9.2\n",
    "T2 = 8.5\n",
    "print('please wait....')\n",
    "for set in data.keys():\n",
    "    print(set)\n",
    "    Y[set] = np.array(label[set])\n",
    "    X[set] = np.array([])\n",
    "    for i, seg in enumerate(data[set]):\n",
    "        # extract, transpose and flatten feature vectors\n",
    "        peak = MaxPeak.apply(seg, feature_windows_size).T.flatten()\n",
    "        mean = Mean.apply(seg, feature_windows_size).T.flatten()\n",
    "        var = Variance.apply(seg, feature_windows_size).T.flatten()\n",
    "        std = StandardDeviation.apply(seg, feature_windows_size).T.flatten()\n",
    "        # skew = Skewness.apply(seg, feature_windows_size).T.flatten()\n",
    "        # kurt = Kurtosis.apply(seg, feature_windows_size).T.flatten()\n",
    "        rms = RootMeanSquare.apply(seg, feature_windows_size).T.flatten()\n",
    "        feature = np.hstack([peak, mean, var, std, rms])\n",
    "        feature = np.expand_dims(feature, axis=0)\n",
    "        # print(peak.mean())\n",
    "    \n",
    "        if peak.mean() <= T1 and mean.mean() <= T2:\n",
    "            # rest gesture\n",
    "            # change the label of this segment into 8\n",
    "            Y[set][i] = 8\n",
    "        \n",
    "        if X[set].size == 0:\n",
    "            X[set] = feature\n",
    "            continue\n",
    "        X[set] = np.vstack([X[set], feature])\n",
    "    X[set] = X[set][np.where(Y[set] != 8)]\n",
    "    Y[set] = Y[set][np.where(Y[set] != 8)]\n",
    "print('Number of samples X[train]: ', len(X['train']))\n",
    "# print('Number of samples X[val]: ', len(X['val']))\n",
    "print('Number of samples X[test]: ', len(X['test']))"
   ]
  },
  {
   "cell_type": "code",
   "execution_count": 10,
   "metadata": {
    "collapsed": false,
    "pycharm": {
     "name": "#%%\n"
    }
   },
   "outputs": [
    {
     "name": "stdout",
     "output_type": "stream",
     "text": [
      "shape of X[train]: (17294, 20)\n",
      "shape of X[test]: (1948, 20)\n"
     ]
    }
   ],
   "source": [
    "print('shape of X[train]:', X['train'].shape)\n",
    "# print('shape of X[val]:', X['val'].shape)\n",
    "print('shape of X[test]:', X['test'].shape)"
   ]
  },
  {
   "attachments": {},
   "cell_type": "markdown",
   "metadata": {
    "collapsed": false
   },
   "source": [
    "## Dimensionality Reduction\n",
    "\n",
    "One that we have obtain feature vector, in order to increase the performance of the classifier it is advisable to reduce its dimensionality by keeping the representative information in the feature vector and eliminating the redundant one from it. the resulting vector is called reduced feature vector.\n",
    "\n",
    "**Principal component analysis (PCA)** as a **feature projection** technique of dimensional reduction. It is an orthogonal linear transformation that can be used for dimensionality reduction in a signal dataset by retaining those characteristics of dataset that contribute most to its variance. In order to do this, lower-order principal components are kept and high-order ones are dismissed.\n",
    "\n",
    "We can use PCA in **scikit-learn** library to reduce feature dimensionality. Note that you apply PCA for **training process**."
   ]
  },
  {
   "cell_type": "code",
   "execution_count": 7,
   "metadata": {
    "collapsed": false,
    "pycharm": {
     "name": "#%%\n"
    }
   },
   "outputs": [],
   "source": [
    "from sklearn.decomposition import PCA"
   ]
  },
  {
   "cell_type": "code",
   "execution_count": 8,
   "metadata": {
    "collapsed": false,
    "pycharm": {
     "name": "#%%\n"
    }
   },
   "outputs": [],
   "source": [
    "# num_components = 512\n",
    "# pca = PCA(n_components=num_components)\n",
    "# pca.fit(X['train'])\n",
    "# X['train'] = pca.transform(X['train'])\n",
    "# X['val'] = pca.transform(X['val'])\n",
    "# X['test'] = pca.transform(X['test'])\n",
    "# print('Feature length of X[train]', X['train'].shape[1])"
   ]
  },
  {
   "attachments": {},
   "cell_type": "markdown",
   "metadata": {
    "collapsed": false
   },
   "source": [
    "Save PCA to use for real-time inference."
   ]
  },
  {
   "cell_type": "code",
   "execution_count": 81,
   "metadata": {
    "collapsed": false,
    "pycharm": {
     "name": "#%%\n"
    }
   },
   "outputs": [],
   "source": [
    "# pk.dump(pca, open('pca.pkl', 'wb'))"
   ]
  },
  {
   "attachments": {},
   "cell_type": "markdown",
   "metadata": {
    "collapsed": false
   },
   "source": [
    "# Classification\n",
    "\n",
    "# KNN Classifier"
   ]
  },
  {
   "cell_type": "code",
   "execution_count": 10,
   "metadata": {
    "collapsed": false,
    "pycharm": {
     "name": "#%%\n"
    }
   },
   "outputs": [],
   "source": [
    "from sklearn.neighbors import KNeighborsClassifier"
   ]
  },
  {
   "attachments": {},
   "cell_type": "markdown",
   "metadata": {
    "collapsed": false
   },
   "source": [
    "You can read the document from [https://scikit-learn.org/stable/modules/generated/sklearn.neighbors.KNeighborsClassifier.html](https://scikit-learn.org/stable/modules/generated/sklearn.neighbors.KNeighborsClassifier.html) to fine-tune your model."
   ]
  },
  {
   "cell_type": "code",
   "execution_count": 33,
   "metadata": {
    "collapsed": false,
    "pycharm": {
     "name": "#%%\n"
    }
   },
   "outputs": [
    {
     "name": "stdout",
     "output_type": "stream",
     "text": [
      "best_p =  1\n",
      "best_k =  9\n",
      "best_score =  0.9163244353182751\n"
     ]
    }
   ],
   "source": [
    "best_p = -1\n",
    "best_score = 0.0\n",
    "best_k = -1\n",
    "for k in range(1, 30):\n",
    "    for p in range(1, 2):\n",
    "        knn_cls = KNeighborsClassifier(n_neighbors = k, weights = \"distance\", p = p)\n",
    "        knn_cls.fit(X['train'], Y['train'])\n",
    "        knn_score = knn_cls.score(X['test'], Y['test'])\n",
    "        if knn_score > best_score:\n",
    "            best_score = knn_score\n",
    "            best_k = k\n",
    "            best_p = p\n",
    "\n",
    "print(\"best_p = \", best_p)\n",
    "print(\"best_k = \", best_k)\n",
    "print(\"best_score = \", best_score) "
   ]
  },
  {
   "cell_type": "code",
   "execution_count": 34,
   "metadata": {},
   "outputs": [
    {
     "data": {
      "text/plain": [
       "KNeighborsClassifier(n_neighbors=9, p=1, weights='distance')"
      ]
     },
     "execution_count": 34,
     "metadata": {},
     "output_type": "execute_result"
    }
   ],
   "source": [
    "knn_cls = KNeighborsClassifier(n_neighbors=best_k, weights='distance', p=best_p)\n",
    "knn_cls.fit(X['train'], Y['train'])"
   ]
  },
  {
   "attachments": {},
   "cell_type": "markdown",
   "metadata": {
    "collapsed": false,
    "pycharm": {
     "name": "#%% md\n"
    }
   },
   "source": [
    "Get the prediction from input X"
   ]
  },
  {
   "cell_type": "code",
   "execution_count": 19,
   "metadata": {
    "collapsed": false,
    "pycharm": {
     "name": "#%%\n"
    }
   },
   "outputs": [],
   "source": [
    "# from visualize import plot_confusion_matrix, display_model_performance"
   ]
  },
  {
   "attachments": {},
   "cell_type": "markdown",
   "metadata": {
    "collapsed": false
   },
   "source": [
    "Show accuracy of model. The `display_model_performance` function helps you evaluate your train model's performance."
   ]
  },
  {
   "attachments": {},
   "cell_type": "markdown",
   "metadata": {
    "collapsed": false
   },
   "source": [
    "Plot confusion matrix."
   ]
  },
  {
   "cell_type": "code",
   "execution_count": 36,
   "metadata": {},
   "outputs": [
    {
     "name": "stdout",
     "output_type": "stream",
     "text": [
      "Model metrics:\n",
      "------------------------------\n",
      "Accuracy: 0.9163\n",
      "Precision: 0.9226\n",
      "Recall: 0.9163\n",
      "F1 Score: 0.9179\n",
      "\n",
      "Model classification report:\n",
      "------------------------------\n",
      "              precision    recall  f1-score   support\n",
      "\n",
      "           0       1.00      0.93      0.96       280\n",
      "           1       0.99      1.00      0.99       280\n",
      "           2       0.75      0.80      0.78       280\n",
      "           3       0.92      0.91      0.92       274\n",
      "           4       0.99      1.00      1.00       280\n",
      "           5       1.00      0.86      0.93       274\n",
      "           6       0.80      0.92      0.86       280\n",
      "\n",
      "    accuracy                           0.92      1948\n",
      "   macro avg       0.92      0.92      0.92      1948\n",
      "weighted avg       0.92      0.92      0.92      1948\n",
      "\n"
     ]
    },
    {
     "data": {
      "image/png": "[encoded data removed]",
      "text/plain": [
       "<Figure size 576x432 with 2 Axes>"
      ]
     },
     "metadata": {
      "needs_background": "light"
     },
     "output_type": "display_data"
    }
   ],
   "source": [
    "Y_preds = knn_cls.predict(X['test'])\n",
    "display_model_performance(Y['test'], Y_preds, classes=[0, 1, 2,3,4,5,6])\n",
    "plot_confusion_matrix(Y['test'], Y_preds, labels=[1, 2, 3,4,5,6,7], save_name='TEST_KNN_CONFUSION_MATRIX')"
   ]
  },
  {
   "attachments": {},
   "cell_type": "markdown",
   "metadata": {
    "collapsed": false,
    "pycharm": {
     "name": "#%% md\n"
    }
   },
   "source": [
    "## SVM Classifier"
   ]
  },
  {
   "cell_type": "code",
   "execution_count": 11,
   "metadata": {
    "collapsed": false,
    "pycharm": {
     "name": "#%%\n"
    }
   },
   "outputs": [],
   "source": [
    "from sklearn.svm import SVC"
   ]
  },
  {
   "attachments": {},
   "cell_type": "markdown",
   "metadata": {
    "collapsed": false
   },
   "source": [
    "You can read the document from [https://scikit-learn.org/stable/modules/svm.html#svm](https://scikit-learn.org/stable/modules/svm.html#svm) for more understanding of using scikit-learn's SVM."
   ]
  },
  {
   "cell_type": "code",
   "execution_count": 147,
   "metadata": {
    "collapsed": false,
    "pycharm": {
     "name": "#%%\n"
    }
   },
   "outputs": [
    {
     "data": {
      "text/plain": [
       "SVC(C=100, gamma=0.0001)"
      ]
     },
     "execution_count": 147,
     "metadata": {},
     "output_type": "execute_result"
    }
   ],
   "source": [
    "svc_cls = SVC(C=100, kernel='rbf', degree=3, gamma=0.0001, tol=0.001)\n",
    "svc_cls.fit(X['train'], Y['train'])"
   ]
  },
  {
   "cell_type": "code",
   "execution_count": 59,
   "metadata": {},
   "outputs": [
    {
     "name": "stdout",
     "output_type": "stream",
     "text": [
      "Fitting 10 folds for each of 44 candidates, totalling 440 fits\n",
      "[CV 1/10] END ....C=50, gamma=0.001, kernel=rbf;, score=0.822 total time=   1.1s\n",
      "[CV 2/10] END ....C=50, gamma=0.001, kernel=rbf;, score=0.968 total time=   1.1s\n",
      "[CV 3/10] END ....C=50, gamma=0.001, kernel=rbf;, score=0.947 total time=   1.1s\n",
      "[CV 4/10] END ....C=50, gamma=0.001, kernel=rbf;, score=0.929 total time=   1.1s\n",
      "[CV 5/10] END ....C=50, gamma=0.001, kernel=rbf;, score=0.917 total time=   1.1s\n",
      "[CV 6/10] END ....C=50, gamma=0.001, kernel=rbf;, score=0.907 total time=   1.1s\n",
      "[CV 7/10] END ....C=50, gamma=0.001, kernel=rbf;, score=0.971 total time=   1.2s\n",
      "[CV 8/10] END ....C=50, gamma=0.001, kernel=rbf;, score=0.983 total time=   1.1s\n",
      "[CV 9/10] END ....C=50, gamma=0.001, kernel=rbf;, score=0.928 total time=   1.1s\n",
      "[CV 10/10] END ...C=50, gamma=0.001, kernel=rbf;, score=0.928 total time=   1.1s\n",
      "[CV 1/10] END ...C=50, gamma=0.0001, kernel=rbf;, score=0.826 total time=   0.5s\n",
      "[CV 2/10] END ...C=50, gamma=0.0001, kernel=rbf;, score=0.968 total time=   0.6s\n",
      "[CV 3/10] END ...C=50, gamma=0.0001, kernel=rbf;, score=0.941 total time=   0.6s\n",
      "[CV 4/10] END ...C=50, gamma=0.0001, kernel=rbf;, score=0.938 total time=   0.6s\n",
      "[CV 5/10] END ...C=50, gamma=0.0001, kernel=rbf;, score=0.934 total time=   0.6s\n",
      "[CV 6/10] END ...C=50, gamma=0.0001, kernel=rbf;, score=0.899 total time=   0.6s\n",
      "[CV 7/10] END ...C=50, gamma=0.0001, kernel=rbf;, score=0.971 total time=   0.6s\n",
      "[CV 8/10] END ...C=50, gamma=0.0001, kernel=rbf;, score=0.985 total time=   0.6s\n",
      "[CV 9/10] END ...C=50, gamma=0.0001, kernel=rbf;, score=0.920 total time=   0.5s\n",
      "[CV 10/10] END ..C=50, gamma=0.0001, kernel=rbf;, score=0.920 total time=   0.5s\n",
      "[CV 1/10] END ....C=50, gamma=1e-05, kernel=rbf;, score=0.831 total time=   0.8s\n",
      "[CV 2/10] END ....C=50, gamma=1e-05, kernel=rbf;, score=0.951 total time=   0.9s\n",
      "[CV 3/10] END ....C=50, gamma=1e-05, kernel=rbf;, score=0.931 total time=   0.9s\n",
      "[CV 4/10] END ....C=50, gamma=1e-05, kernel=rbf;, score=0.940 total time=   1.0s\n",
      "[CV 5/10] END ....C=50, gamma=1e-05, kernel=rbf;, score=0.924 total time=   1.0s\n",
      "[CV 6/10] END ....C=50, gamma=1e-05, kernel=rbf;, score=0.887 total time=   1.0s\n",
      "[CV 7/10] END ....C=50, gamma=1e-05, kernel=rbf;, score=0.967 total time=   1.0s\n",
      "[CV 8/10] END ....C=50, gamma=1e-05, kernel=rbf;, score=0.979 total time=   1.0s\n",
      "[CV 9/10] END ....C=50, gamma=1e-05, kernel=rbf;, score=0.899 total time=   0.9s\n",
      "[CV 10/10] END ...C=50, gamma=1e-05, kernel=rbf;, score=0.916 total time=   0.9s\n",
      "[CV 1/10] END ....C=50, gamma=scale, kernel=rbf;, score=0.829 total time=   0.5s\n",
      "[CV 2/10] END ....C=50, gamma=scale, kernel=rbf;, score=0.970 total time=   0.6s\n",
      "[CV 3/10] END ....C=50, gamma=scale, kernel=rbf;, score=0.940 total time=   0.6s\n",
      "[CV 4/10] END ....C=50, gamma=scale, kernel=rbf;, score=0.940 total time=   0.6s\n",
      "[CV 5/10] END ....C=50, gamma=scale, kernel=rbf;, score=0.936 total time=   0.6s\n",
      "[CV 6/10] END ....C=50, gamma=scale, kernel=rbf;, score=0.901 total time=   0.6s\n",
      "[CV 7/10] END ....C=50, gamma=scale, kernel=rbf;, score=0.970 total time=   0.6s\n",
      "[CV 8/10] END ....C=50, gamma=scale, kernel=rbf;, score=0.984 total time=   0.6s\n",
      "[CV 9/10] END ....C=50, gamma=scale, kernel=rbf;, score=0.907 total time=   0.6s\n",
      "[CV 10/10] END ...C=50, gamma=scale, kernel=rbf;, score=0.912 total time=   0.6s\n",
      "[CV 1/10] END ...C=100, gamma=0.001, kernel=rbf;, score=0.825 total time=   1.0s\n",
      "[CV 2/10] END ...C=100, gamma=0.001, kernel=rbf;, score=0.971 total time=   1.1s\n",
      "[CV 3/10] END ...C=100, gamma=0.001, kernel=rbf;, score=0.945 total time=   1.1s\n",
      "[CV 4/10] END ...C=100, gamma=0.001, kernel=rbf;, score=0.930 total time=   1.1s\n",
      "[CV 5/10] END ...C=100, gamma=0.001, kernel=rbf;, score=0.911 total time=   1.1s\n",
      "[CV 6/10] END ...C=100, gamma=0.001, kernel=rbf;, score=0.902 total time=   1.1s\n",
      "[CV 7/10] END ...C=100, gamma=0.001, kernel=rbf;, score=0.969 total time=   1.2s\n",
      "[CV 8/10] END ...C=100, gamma=0.001, kernel=rbf;, score=0.983 total time=   1.1s\n",
      "[CV 9/10] END ...C=100, gamma=0.001, kernel=rbf;, score=0.927 total time=   1.1s\n",
      "[CV 10/10] END ..C=100, gamma=0.001, kernel=rbf;, score=0.928 total time=   1.1s\n",
      "[CV 1/10] END ..C=100, gamma=0.0001, kernel=rbf;, score=0.818 total time=   0.5s\n",
      "[CV 2/10] END ..C=100, gamma=0.0001, kernel=rbf;, score=0.966 total time=   0.5s\n",
      "[CV 3/10] END ..C=100, gamma=0.0001, kernel=rbf;, score=0.949 total time=   0.5s\n",
      "[CV 4/10] END ..C=100, gamma=0.0001, kernel=rbf;, score=0.938 total time=   0.5s\n",
      "[CV 5/10] END ..C=100, gamma=0.0001, kernel=rbf;, score=0.938 total time=   0.5s\n",
      "[CV 6/10] END ..C=100, gamma=0.0001, kernel=rbf;, score=0.905 total time=   0.5s\n",
      "[CV 7/10] END ..C=100, gamma=0.0001, kernel=rbf;, score=0.973 total time=   0.6s\n",
      "[CV 8/10] END ..C=100, gamma=0.0001, kernel=rbf;, score=0.986 total time=   0.5s\n",
      "[CV 9/10] END ..C=100, gamma=0.0001, kernel=rbf;, score=0.923 total time=   0.5s\n",
      "[CV 10/10] END .C=100, gamma=0.0001, kernel=rbf;, score=0.921 total time=   0.5s\n",
      "[CV 1/10] END ...C=100, gamma=1e-05, kernel=rbf;, score=0.837 total time=   0.7s\n",
      "[CV 2/10] END ...C=100, gamma=1e-05, kernel=rbf;, score=0.957 total time=   0.8s\n",
      "[CV 3/10] END ...C=100, gamma=1e-05, kernel=rbf;, score=0.939 total time=   0.8s\n",
      "[CV 4/10] END ...C=100, gamma=1e-05, kernel=rbf;, score=0.946 total time=   0.8s\n",
      "[CV 5/10] END ...C=100, gamma=1e-05, kernel=rbf;, score=0.934 total time=   0.8s\n",
      "[CV 6/10] END ...C=100, gamma=1e-05, kernel=rbf;, score=0.895 total time=   0.8s\n",
      "[CV 7/10] END ...C=100, gamma=1e-05, kernel=rbf;, score=0.970 total time=   0.8s\n",
      "[CV 8/10] END ...C=100, gamma=1e-05, kernel=rbf;, score=0.982 total time=   0.8s\n",
      "[CV 9/10] END ...C=100, gamma=1e-05, kernel=rbf;, score=0.899 total time=   0.8s\n",
      "[CV 10/10] END ..C=100, gamma=1e-05, kernel=rbf;, score=0.915 total time=   0.8s\n",
      "[CV 1/10] END ...C=100, gamma=scale, kernel=rbf;, score=0.826 total time=   0.5s\n",
      "[CV 2/10] END ...C=100, gamma=scale, kernel=rbf;, score=0.960 total time=   0.5s\n",
      "[CV 3/10] END ...C=100, gamma=scale, kernel=rbf;, score=0.945 total time=   0.6s\n",
      "[CV 4/10] END ...C=100, gamma=scale, kernel=rbf;, score=0.938 total time=   0.6s\n",
      "[CV 5/10] END ...C=100, gamma=scale, kernel=rbf;, score=0.936 total time=   0.5s\n",
      "[CV 6/10] END ...C=100, gamma=scale, kernel=rbf;, score=0.897 total time=   0.5s\n",
      "[CV 7/10] END ...C=100, gamma=scale, kernel=rbf;, score=0.970 total time=   0.6s\n",
      "[CV 8/10] END ...C=100, gamma=scale, kernel=rbf;, score=0.984 total time=   0.6s\n",
      "[CV 9/10] END ...C=100, gamma=scale, kernel=rbf;, score=0.913 total time=   0.5s\n",
      "[CV 10/10] END ..C=100, gamma=scale, kernel=rbf;, score=0.917 total time=   0.5s\n",
      "[CV 1/10] END ...C=200, gamma=0.001, kernel=rbf;, score=0.825 total time=   1.0s\n",
      "[CV 2/10] END ...C=200, gamma=0.001, kernel=rbf;, score=0.971 total time=   1.1s\n",
      "[CV 3/10] END ...C=200, gamma=0.001, kernel=rbf;, score=0.946 total time=   1.1s\n",
      "[CV 4/10] END ...C=200, gamma=0.001, kernel=rbf;, score=0.928 total time=   1.1s\n",
      "[CV 5/10] END ...C=200, gamma=0.001, kernel=rbf;, score=0.904 total time=   1.1s\n",
      "[CV 6/10] END ...C=200, gamma=0.001, kernel=rbf;, score=0.898 total time=   1.1s\n",
      "[CV 7/10] END ...C=200, gamma=0.001, kernel=rbf;, score=0.968 total time=   1.1s\n",
      "[CV 8/10] END ...C=200, gamma=0.001, kernel=rbf;, score=0.980 total time=   1.1s\n",
      "[CV 9/10] END ...C=200, gamma=0.001, kernel=rbf;, score=0.927 total time=   1.1s\n",
      "[CV 10/10] END ..C=200, gamma=0.001, kernel=rbf;, score=0.925 total time=   1.1s\n",
      "[CV 1/10] END ..C=200, gamma=0.0001, kernel=rbf;, score=0.806 total time=   0.4s\n",
      "[CV 2/10] END ..C=200, gamma=0.0001, kernel=rbf;, score=0.964 total time=   0.5s\n",
      "[CV 3/10] END ..C=200, gamma=0.0001, kernel=rbf;, score=0.953 total time=   0.5s\n",
      "[CV 4/10] END ..C=200, gamma=0.0001, kernel=rbf;, score=0.940 total time=   0.5s\n",
      "[CV 5/10] END ..C=200, gamma=0.0001, kernel=rbf;, score=0.936 total time=   0.5s\n",
      "[CV 6/10] END ..C=200, gamma=0.0001, kernel=rbf;, score=0.900 total time=   0.5s\n",
      "[CV 7/10] END ..C=200, gamma=0.0001, kernel=rbf;, score=0.972 total time=   0.5s\n",
      "[CV 8/10] END ..C=200, gamma=0.0001, kernel=rbf;, score=0.986 total time=   0.5s\n",
      "[CV 9/10] END ..C=200, gamma=0.0001, kernel=rbf;, score=0.923 total time=   0.5s\n",
      "[CV 10/10] END .C=200, gamma=0.0001, kernel=rbf;, score=0.923 total time=   0.5s\n",
      "[CV 1/10] END ...C=200, gamma=1e-05, kernel=rbf;, score=0.824 total time=   0.6s\n",
      "[CV 2/10] END ...C=200, gamma=1e-05, kernel=rbf;, score=0.961 total time=   0.7s\n",
      "[CV 3/10] END ...C=200, gamma=1e-05, kernel=rbf;, score=0.937 total time=   0.7s\n",
      "[CV 4/10] END ...C=200, gamma=1e-05, kernel=rbf;, score=0.945 total time=   0.7s\n",
      "[CV 5/10] END ...C=200, gamma=1e-05, kernel=rbf;, score=0.947 total time=   0.7s\n",
      "[CV 6/10] END ...C=200, gamma=1e-05, kernel=rbf;, score=0.901 total time=   0.7s\n",
      "[CV 7/10] END ...C=200, gamma=1e-05, kernel=rbf;, score=0.971 total time=   0.7s\n",
      "[CV 8/10] END ...C=200, gamma=1e-05, kernel=rbf;, score=0.982 total time=   0.7s\n",
      "[CV 9/10] END ...C=200, gamma=1e-05, kernel=rbf;, score=0.901 total time=   0.6s\n",
      "[CV 10/10] END ..C=200, gamma=1e-05, kernel=rbf;, score=0.910 total time=   0.6s\n",
      "[CV 1/10] END ...C=200, gamma=scale, kernel=rbf;, score=0.818 total time=   0.4s\n",
      "[CV 2/10] END ...C=200, gamma=scale, kernel=rbf;, score=0.963 total time=   0.5s\n",
      "[CV 3/10] END ...C=200, gamma=scale, kernel=rbf;, score=0.949 total time=   0.5s\n",
      "[CV 4/10] END ...C=200, gamma=scale, kernel=rbf;, score=0.940 total time=   0.5s\n",
      "[CV 5/10] END ...C=200, gamma=scale, kernel=rbf;, score=0.944 total time=   0.5s\n",
      "[CV 6/10] END ...C=200, gamma=scale, kernel=rbf;, score=0.903 total time=   0.5s\n",
      "[CV 7/10] END ...C=200, gamma=scale, kernel=rbf;, score=0.970 total time=   0.5s\n",
      "[CV 8/10] END ...C=200, gamma=scale, kernel=rbf;, score=0.984 total time=   0.5s\n",
      "[CV 9/10] END ...C=200, gamma=scale, kernel=rbf;, score=0.919 total time=   0.5s\n",
      "[CV 10/10] END ..C=200, gamma=scale, kernel=rbf;, score=0.917 total time=   0.5s\n",
      "[CV 1/10] END ...C=300, gamma=0.001, kernel=rbf;, score=0.827 total time=   1.0s\n",
      "[CV 2/10] END ...C=300, gamma=0.001, kernel=rbf;, score=0.971 total time=   1.1s\n",
      "[CV 3/10] END ...C=300, gamma=0.001, kernel=rbf;, score=0.946 total time=   1.1s\n",
      "[CV 4/10] END ...C=300, gamma=0.001, kernel=rbf;, score=0.924 total time=   1.1s\n",
      "[CV 5/10] END ...C=300, gamma=0.001, kernel=rbf;, score=0.898 total time=   1.1s\n",
      "[CV 6/10] END ...C=300, gamma=0.001, kernel=rbf;, score=0.896 total time=   1.1s\n",
      "[CV 7/10] END ...C=300, gamma=0.001, kernel=rbf;, score=0.968 total time=   1.1s\n",
      "[CV 8/10] END ...C=300, gamma=0.001, kernel=rbf;, score=0.979 total time=   1.1s\n",
      "[CV 9/10] END ...C=300, gamma=0.001, kernel=rbf;, score=0.925 total time=   1.1s\n",
      "[CV 10/10] END ..C=300, gamma=0.001, kernel=rbf;, score=0.929 total time=   1.1s\n",
      "[CV 1/10] END ..C=300, gamma=0.0001, kernel=rbf;, score=0.808 total time=   0.4s\n",
      "[CV 2/10] END ..C=300, gamma=0.0001, kernel=rbf;, score=0.964 total time=   0.5s\n",
      "[CV 3/10] END ..C=300, gamma=0.0001, kernel=rbf;, score=0.955 total time=   0.5s\n",
      "[CV 4/10] END ..C=300, gamma=0.0001, kernel=rbf;, score=0.938 total time=   0.5s\n",
      "[CV 5/10] END ..C=300, gamma=0.0001, kernel=rbf;, score=0.939 total time=   0.5s\n",
      "[CV 6/10] END ..C=300, gamma=0.0001, kernel=rbf;, score=0.899 total time=   0.5s\n",
      "[CV 7/10] END ..C=300, gamma=0.0001, kernel=rbf;, score=0.973 total time=   0.5s\n",
      "[CV 8/10] END ..C=300, gamma=0.0001, kernel=rbf;, score=0.987 total time=   0.5s\n",
      "[CV 9/10] END ..C=300, gamma=0.0001, kernel=rbf;, score=0.924 total time=   0.5s\n",
      "[CV 10/10] END .C=300, gamma=0.0001, kernel=rbf;, score=0.922 total time=   0.5s\n",
      "[CV 1/10] END ...C=300, gamma=1e-05, kernel=rbf;, score=0.822 total time=   0.5s\n",
      "[CV 2/10] END ...C=300, gamma=1e-05, kernel=rbf;, score=0.966 total time=   0.6s\n",
      "[CV 3/10] END ...C=300, gamma=1e-05, kernel=rbf;, score=0.945 total time=   0.6s\n",
      "[CV 4/10] END ...C=300, gamma=1e-05, kernel=rbf;, score=0.945 total time=   0.7s\n",
      "[CV 5/10] END ...C=300, gamma=1e-05, kernel=rbf;, score=0.950 total time=   0.6s\n",
      "[CV 6/10] END ...C=300, gamma=1e-05, kernel=rbf;, score=0.902 total time=   0.6s\n",
      "[CV 7/10] END ...C=300, gamma=1e-05, kernel=rbf;, score=0.971 total time=   0.7s\n",
      "[CV 8/10] END ...C=300, gamma=1e-05, kernel=rbf;, score=0.983 total time=   0.7s\n",
      "[CV 9/10] END ...C=300, gamma=1e-05, kernel=rbf;, score=0.904 total time=   0.6s\n",
      "[CV 10/10] END ..C=300, gamma=1e-05, kernel=rbf;, score=0.906 total time=   0.6s\n",
      "[CV 1/10] END ...C=300, gamma=scale, kernel=rbf;, score=0.813 total time=   0.4s\n",
      "[CV 2/10] END ...C=300, gamma=scale, kernel=rbf;, score=0.962 total time=   0.5s\n",
      "[CV 3/10] END ...C=300, gamma=scale, kernel=rbf;, score=0.950 total time=   0.5s\n",
      "[CV 4/10] END ...C=300, gamma=scale, kernel=rbf;, score=0.941 total time=   0.5s\n",
      "[CV 5/10] END ...C=300, gamma=scale, kernel=rbf;, score=0.944 total time=   0.5s\n",
      "[CV 6/10] END ...C=300, gamma=scale, kernel=rbf;, score=0.902 total time=   0.5s\n",
      "[CV 7/10] END ...C=300, gamma=scale, kernel=rbf;, score=0.970 total time=   0.5s\n",
      "[CV 8/10] END ...C=300, gamma=scale, kernel=rbf;, score=0.984 total time=   0.5s\n",
      "[CV 9/10] END ...C=300, gamma=scale, kernel=rbf;, score=0.922 total time=   0.4s\n",
      "[CV 10/10] END ..C=300, gamma=scale, kernel=rbf;, score=0.918 total time=   0.5s\n",
      "[CV 1/10] END ...C=400, gamma=0.001, kernel=rbf;, score=0.827 total time=   1.0s\n",
      "[CV 2/10] END ...C=400, gamma=0.001, kernel=rbf;, score=0.969 total time=   1.1s\n",
      "[CV 3/10] END ...C=400, gamma=0.001, kernel=rbf;, score=0.941 total time=   1.1s\n",
      "[CV 4/10] END ...C=400, gamma=0.001, kernel=rbf;, score=0.924 total time=   1.2s\n",
      "[CV 5/10] END ...C=400, gamma=0.001, kernel=rbf;, score=0.897 total time=   1.1s\n",
      "[CV 6/10] END ...C=400, gamma=0.001, kernel=rbf;, score=0.898 total time=   1.1s\n",
      "[CV 7/10] END ...C=400, gamma=0.001, kernel=rbf;, score=0.966 total time=   1.2s\n",
      "[CV 8/10] END ...C=400, gamma=0.001, kernel=rbf;, score=0.979 total time=   1.1s\n",
      "[CV 9/10] END ...C=400, gamma=0.001, kernel=rbf;, score=0.924 total time=   1.1s\n",
      "[CV 10/10] END ..C=400, gamma=0.001, kernel=rbf;, score=0.928 total time=   1.1s\n",
      "[CV 1/10] END ..C=400, gamma=0.0001, kernel=rbf;, score=0.811 total time=   0.4s\n",
      "[CV 2/10] END ..C=400, gamma=0.0001, kernel=rbf;, score=0.965 total time=   0.5s\n",
      "[CV 3/10] END ..C=400, gamma=0.0001, kernel=rbf;, score=0.957 total time=   0.5s\n",
      "[CV 4/10] END ..C=400, gamma=0.0001, kernel=rbf;, score=0.939 total time=   0.5s\n",
      "[CV 5/10] END ..C=400, gamma=0.0001, kernel=rbf;, score=0.935 total time=   0.5s\n",
      "[CV 6/10] END ..C=400, gamma=0.0001, kernel=rbf;, score=0.899 total time=   0.4s\n",
      "[CV 7/10] END ..C=400, gamma=0.0001, kernel=rbf;, score=0.975 total time=   0.5s\n",
      "[CV 8/10] END ..C=400, gamma=0.0001, kernel=rbf;, score=0.986 total time=   0.5s\n",
      "[CV 9/10] END ..C=400, gamma=0.0001, kernel=rbf;, score=0.925 total time=   0.4s\n",
      "[CV 10/10] END .C=400, gamma=0.0001, kernel=rbf;, score=0.921 total time=   0.5s\n",
      "[CV 1/10] END ...C=400, gamma=1e-05, kernel=rbf;, score=0.822 total time=   0.5s\n",
      "[CV 2/10] END ...C=400, gamma=1e-05, kernel=rbf;, score=0.966 total time=   0.6s\n",
      "[CV 3/10] END ...C=400, gamma=1e-05, kernel=rbf;, score=0.946 total time=   0.6s\n",
      "[CV 4/10] END ...C=400, gamma=1e-05, kernel=rbf;, score=0.943 total time=   0.6s\n",
      "[CV 5/10] END ...C=400, gamma=1e-05, kernel=rbf;, score=0.950 total time=   0.6s\n",
      "[CV 6/10] END ...C=400, gamma=1e-05, kernel=rbf;, score=0.904 total time=   0.6s\n",
      "[CV 7/10] END ...C=400, gamma=1e-05, kernel=rbf;, score=0.971 total time=   0.6s\n",
      "[CV 8/10] END ...C=400, gamma=1e-05, kernel=rbf;, score=0.983 total time=   0.6s\n",
      "[CV 9/10] END ...C=400, gamma=1e-05, kernel=rbf;, score=0.907 total time=   0.6s\n",
      "[CV 10/10] END ..C=400, gamma=1e-05, kernel=rbf;, score=0.906 total time=   0.6s\n",
      "[CV 1/10] END ...C=400, gamma=scale, kernel=rbf;, score=0.809 total time=   0.4s\n",
      "[CV 2/10] END ...C=400, gamma=scale, kernel=rbf;, score=0.963 total time=   0.5s\n",
      "[CV 3/10] END ...C=400, gamma=scale, kernel=rbf;, score=0.951 total time=   0.5s\n",
      "[CV 4/10] END ...C=400, gamma=scale, kernel=rbf;, score=0.940 total time=   0.5s\n",
      "[CV 5/10] END ...C=400, gamma=scale, kernel=rbf;, score=0.944 total time=   0.5s\n",
      "[CV 6/10] END ...C=400, gamma=scale, kernel=rbf;, score=0.899 total time=   0.5s\n",
      "[CV 7/10] END ...C=400, gamma=scale, kernel=rbf;, score=0.970 total time=   0.5s\n",
      "[CV 8/10] END ...C=400, gamma=scale, kernel=rbf;, score=0.985 total time=   0.5s\n",
      "[CV 9/10] END ...C=400, gamma=scale, kernel=rbf;, score=0.923 total time=   0.4s\n",
      "[CV 10/10] END ..C=400, gamma=scale, kernel=rbf;, score=0.918 total time=   0.5s\n",
      "[CV 1/10] END ...C=500, gamma=0.001, kernel=rbf;, score=0.828 total time=   1.1s\n",
      "[CV 2/10] END ...C=500, gamma=0.001, kernel=rbf;, score=0.968 total time=   1.1s\n",
      "[CV 3/10] END ...C=500, gamma=0.001, kernel=rbf;, score=0.938 total time=   1.2s\n",
      "[CV 4/10] END ...C=500, gamma=0.001, kernel=rbf;, score=0.923 total time=   1.1s\n",
      "[CV 5/10] END ...C=500, gamma=0.001, kernel=rbf;, score=0.895 total time=   1.1s\n",
      "[CV 6/10] END ...C=500, gamma=0.001, kernel=rbf;, score=0.896 total time=   1.1s\n",
      "[CV 7/10] END ...C=500, gamma=0.001, kernel=rbf;, score=0.966 total time=   1.2s\n",
      "[CV 8/10] END ...C=500, gamma=0.001, kernel=rbf;, score=0.979 total time=   1.1s\n",
      "[CV 9/10] END ...C=500, gamma=0.001, kernel=rbf;, score=0.927 total time=   1.1s\n",
      "[CV 10/10] END ..C=500, gamma=0.001, kernel=rbf;, score=0.927 total time=   1.1s\n",
      "[CV 1/10] END ..C=500, gamma=0.0001, kernel=rbf;, score=0.809 total time=   0.4s\n",
      "[CV 2/10] END ..C=500, gamma=0.0001, kernel=rbf;, score=0.964 total time=   0.5s\n",
      "[CV 3/10] END ..C=500, gamma=0.0001, kernel=rbf;, score=0.956 total time=   0.5s\n",
      "[CV 4/10] END ..C=500, gamma=0.0001, kernel=rbf;, score=0.939 total time=   0.5s\n",
      "[CV 5/10] END ..C=500, gamma=0.0001, kernel=rbf;, score=0.934 total time=   0.4s\n",
      "[CV 6/10] END ..C=500, gamma=0.0001, kernel=rbf;, score=0.897 total time=   0.4s\n",
      "[CV 7/10] END ..C=500, gamma=0.0001, kernel=rbf;, score=0.974 total time=   0.5s\n",
      "[CV 8/10] END ..C=500, gamma=0.0001, kernel=rbf;, score=0.985 total time=   0.5s\n",
      "[CV 9/10] END ..C=500, gamma=0.0001, kernel=rbf;, score=0.924 total time=   0.4s\n",
      "[CV 10/10] END .C=500, gamma=0.0001, kernel=rbf;, score=0.925 total time=   0.5s\n",
      "[CV 1/10] END ...C=500, gamma=1e-05, kernel=rbf;, score=0.821 total time=   0.5s\n",
      "[CV 2/10] END ...C=500, gamma=1e-05, kernel=rbf;, score=0.964 total time=   0.6s\n",
      "[CV 3/10] END ...C=500, gamma=1e-05, kernel=rbf;, score=0.947 total time=   0.6s\n",
      "[CV 4/10] END ...C=500, gamma=1e-05, kernel=rbf;, score=0.942 total time=   0.6s\n",
      "[CV 5/10] END ...C=500, gamma=1e-05, kernel=rbf;, score=0.952 total time=   0.6s\n",
      "[CV 6/10] END ...C=500, gamma=1e-05, kernel=rbf;, score=0.905 total time=   0.6s\n",
      "[CV 7/10] END ...C=500, gamma=1e-05, kernel=rbf;, score=0.970 total time=   0.6s\n",
      "[CV 8/10] END ...C=500, gamma=1e-05, kernel=rbf;, score=0.983 total time=   0.6s\n",
      "[CV 9/10] END ...C=500, gamma=1e-05, kernel=rbf;, score=0.907 total time=   0.5s\n",
      "[CV 10/10] END ..C=500, gamma=1e-05, kernel=rbf;, score=0.905 total time=   0.6s\n",
      "[CV 1/10] END ...C=500, gamma=scale, kernel=rbf;, score=0.808 total time=   0.4s\n",
      "[CV 2/10] END ...C=500, gamma=scale, kernel=rbf;, score=0.962 total time=   0.5s\n",
      "[CV 3/10] END ...C=500, gamma=scale, kernel=rbf;, score=0.953 total time=   0.5s\n",
      "[CV 4/10] END ...C=500, gamma=scale, kernel=rbf;, score=0.940 total time=   0.5s\n",
      "[CV 5/10] END ...C=500, gamma=scale, kernel=rbf;, score=0.943 total time=   0.5s\n",
      "[CV 6/10] END ...C=500, gamma=scale, kernel=rbf;, score=0.899 total time=   0.4s\n",
      "[CV 7/10] END ...C=500, gamma=scale, kernel=rbf;, score=0.970 total time=   0.5s\n",
      "[CV 8/10] END ...C=500, gamma=scale, kernel=rbf;, score=0.986 total time=   0.5s\n",
      "[CV 9/10] END ...C=500, gamma=scale, kernel=rbf;, score=0.923 total time=   0.4s\n",
      "[CV 10/10] END ..C=500, gamma=scale, kernel=rbf;, score=0.920 total time=   0.5s\n",
      "[CV 1/10] END ...C=600, gamma=0.001, kernel=rbf;, score=0.828 total time=   1.1s\n",
      "[CV 2/10] END ...C=600, gamma=0.001, kernel=rbf;, score=0.968 total time=   1.1s\n",
      "[CV 3/10] END ...C=600, gamma=0.001, kernel=rbf;, score=0.935 total time=   1.1s\n",
      "[CV 4/10] END ...C=600, gamma=0.001, kernel=rbf;, score=0.922 total time=   1.1s\n",
      "[CV 5/10] END ...C=600, gamma=0.001, kernel=rbf;, score=0.892 total time=   1.1s\n",
      "[CV 6/10] END ...C=600, gamma=0.001, kernel=rbf;, score=0.892 total time=   1.1s\n",
      "[CV 7/10] END ...C=600, gamma=0.001, kernel=rbf;, score=0.966 total time=   1.2s\n",
      "[CV 8/10] END ...C=600, gamma=0.001, kernel=rbf;, score=0.979 total time=   1.1s\n",
      "[CV 9/10] END ...C=600, gamma=0.001, kernel=rbf;, score=0.928 total time=   1.1s\n",
      "[CV 10/10] END ..C=600, gamma=0.001, kernel=rbf;, score=0.927 total time=   1.1s\n",
      "[CV 1/10] END ..C=600, gamma=0.0001, kernel=rbf;, score=0.810 total time=   0.4s\n",
      "[CV 2/10] END ..C=600, gamma=0.0001, kernel=rbf;, score=0.964 total time=   0.5s\n",
      "[CV 3/10] END ..C=600, gamma=0.0001, kernel=rbf;, score=0.958 total time=   0.5s\n",
      "[CV 4/10] END ..C=600, gamma=0.0001, kernel=rbf;, score=0.939 total time=   0.5s\n",
      "[CV 5/10] END ..C=600, gamma=0.0001, kernel=rbf;, score=0.928 total time=   0.4s\n",
      "[CV 6/10] END ..C=600, gamma=0.0001, kernel=rbf;, score=0.898 total time=   0.4s\n",
      "[CV 7/10] END ..C=600, gamma=0.0001, kernel=rbf;, score=0.974 total time=   0.5s\n",
      "[CV 8/10] END ..C=600, gamma=0.0001, kernel=rbf;, score=0.985 total time=   0.5s\n",
      "[CV 9/10] END ..C=600, gamma=0.0001, kernel=rbf;, score=0.924 total time=   0.4s\n",
      "[CV 10/10] END .C=600, gamma=0.0001, kernel=rbf;, score=0.922 total time=   0.5s\n",
      "[CV 1/10] END ...C=600, gamma=1e-05, kernel=rbf;, score=0.821 total time=   0.5s\n",
      "[CV 2/10] END ...C=600, gamma=1e-05, kernel=rbf;, score=0.962 total time=   0.6s\n",
      "[CV 3/10] END ...C=600, gamma=1e-05, kernel=rbf;, score=0.947 total time=   0.6s\n",
      "[CV 4/10] END ...C=600, gamma=1e-05, kernel=rbf;, score=0.941 total time=   0.6s\n",
      "[CV 5/10] END ...C=600, gamma=1e-05, kernel=rbf;, score=0.953 total time=   0.6s\n",
      "[CV 6/10] END ...C=600, gamma=1e-05, kernel=rbf;, score=0.905 total time=   0.6s\n",
      "[CV 7/10] END ...C=600, gamma=1e-05, kernel=rbf;, score=0.970 total time=   0.6s\n",
      "[CV 8/10] END ...C=600, gamma=1e-05, kernel=rbf;, score=0.983 total time=   0.6s\n",
      "[CV 9/10] END ...C=600, gamma=1e-05, kernel=rbf;, score=0.906 total time=   0.5s\n",
      "[CV 10/10] END ..C=600, gamma=1e-05, kernel=rbf;, score=0.905 total time=   0.6s\n",
      "[CV 1/10] END ...C=600, gamma=scale, kernel=rbf;, score=0.807 total time=   0.4s\n",
      "[CV 2/10] END ...C=600, gamma=scale, kernel=rbf;, score=0.961 total time=   0.5s\n",
      "[CV 3/10] END ...C=600, gamma=scale, kernel=rbf;, score=0.954 total time=   0.5s\n",
      "[CV 4/10] END ...C=600, gamma=scale, kernel=rbf;, score=0.938 total time=   0.5s\n",
      "[CV 5/10] END ...C=600, gamma=scale, kernel=rbf;, score=0.943 total time=   0.5s\n",
      "[CV 6/10] END ...C=600, gamma=scale, kernel=rbf;, score=0.898 total time=   0.4s\n",
      "[CV 7/10] END ...C=600, gamma=scale, kernel=rbf;, score=0.969 total time=   0.5s\n",
      "[CV 8/10] END ...C=600, gamma=scale, kernel=rbf;, score=0.986 total time=   0.5s\n",
      "[CV 9/10] END ...C=600, gamma=scale, kernel=rbf;, score=0.923 total time=   0.4s\n",
      "[CV 10/10] END ..C=600, gamma=scale, kernel=rbf;, score=0.920 total time=   0.4s\n",
      "[CV 1/10] END ...C=700, gamma=0.001, kernel=rbf;, score=0.828 total time=   1.0s\n",
      "[CV 2/10] END ...C=700, gamma=0.001, kernel=rbf;, score=0.968 total time=   1.1s\n",
      "[CV 3/10] END ...C=700, gamma=0.001, kernel=rbf;, score=0.934 total time=   1.1s\n",
      "[CV 4/10] END ...C=700, gamma=0.001, kernel=rbf;, score=0.921 total time=   1.1s\n",
      "[CV 5/10] END ...C=700, gamma=0.001, kernel=rbf;, score=0.892 total time=   1.1s\n",
      "[CV 6/10] END ...C=700, gamma=0.001, kernel=rbf;, score=0.892 total time=   1.1s\n",
      "[CV 7/10] END ...C=700, gamma=0.001, kernel=rbf;, score=0.965 total time=   1.2s\n",
      "[CV 8/10] END ...C=700, gamma=0.001, kernel=rbf;, score=0.979 total time=   1.1s\n",
      "[CV 9/10] END ...C=700, gamma=0.001, kernel=rbf;, score=0.927 total time=   1.1s\n",
      "[CV 10/10] END ..C=700, gamma=0.001, kernel=rbf;, score=0.927 total time=   1.1s\n",
      "[CV 1/10] END ..C=700, gamma=0.0001, kernel=rbf;, score=0.810 total time=   0.4s\n",
      "[CV 2/10] END ..C=700, gamma=0.0001, kernel=rbf;, score=0.963 total time=   0.5s\n",
      "[CV 3/10] END ..C=700, gamma=0.0001, kernel=rbf;, score=0.958 total time=   0.5s\n",
      "[CV 4/10] END ..C=700, gamma=0.0001, kernel=rbf;, score=0.939 total time=   0.5s\n",
      "[CV 5/10] END ..C=700, gamma=0.0001, kernel=rbf;, score=0.928 total time=   0.4s\n",
      "[CV 6/10] END ..C=700, gamma=0.0001, kernel=rbf;, score=0.896 total time=   0.4s\n",
      "[CV 7/10] END ..C=700, gamma=0.0001, kernel=rbf;, score=0.974 total time=   0.5s\n",
      "[CV 8/10] END ..C=700, gamma=0.0001, kernel=rbf;, score=0.985 total time=   0.5s\n",
      "[CV 9/10] END ..C=700, gamma=0.0001, kernel=rbf;, score=0.924 total time=   0.4s\n",
      "[CV 10/10] END .C=700, gamma=0.0001, kernel=rbf;, score=0.921 total time=   0.4s\n",
      "[CV 1/10] END ...C=700, gamma=1e-05, kernel=rbf;, score=0.820 total time=   0.5s\n",
      "[CV 2/10] END ...C=700, gamma=1e-05, kernel=rbf;, score=0.966 total time=   0.6s\n",
      "[CV 3/10] END ...C=700, gamma=1e-05, kernel=rbf;, score=0.947 total time=   0.6s\n",
      "[CV 4/10] END ...C=700, gamma=1e-05, kernel=rbf;, score=0.942 total time=   0.6s\n",
      "[CV 5/10] END ...C=700, gamma=1e-05, kernel=rbf;, score=0.952 total time=   0.6s\n",
      "[CV 6/10] END ...C=700, gamma=1e-05, kernel=rbf;, score=0.901 total time=   0.5s\n",
      "[CV 7/10] END ...C=700, gamma=1e-05, kernel=rbf;, score=0.970 total time=   0.6s\n",
      "[CV 8/10] END ...C=700, gamma=1e-05, kernel=rbf;, score=0.983 total time=   0.6s\n",
      "[CV 9/10] END ...C=700, gamma=1e-05, kernel=rbf;, score=0.907 total time=   0.5s\n",
      "[CV 10/10] END ..C=700, gamma=1e-05, kernel=rbf;, score=0.907 total time=   0.5s\n",
      "[CV 1/10] END ...C=700, gamma=scale, kernel=rbf;, score=0.805 total time=   0.4s\n",
      "[CV 2/10] END ...C=700, gamma=scale, kernel=rbf;, score=0.962 total time=   0.5s\n",
      "[CV 3/10] END ...C=700, gamma=scale, kernel=rbf;, score=0.955 total time=   0.5s\n",
      "[CV 4/10] END ...C=700, gamma=scale, kernel=rbf;, score=0.939 total time=   0.5s\n",
      "[CV 5/10] END ...C=700, gamma=scale, kernel=rbf;, score=0.944 total time=   0.5s\n",
      "[CV 6/10] END ...C=700, gamma=scale, kernel=rbf;, score=0.898 total time=   0.4s\n",
      "[CV 7/10] END ...C=700, gamma=scale, kernel=rbf;, score=0.970 total time=   0.5s\n",
      "[CV 8/10] END ...C=700, gamma=scale, kernel=rbf;, score=0.985 total time=   0.5s\n",
      "[CV 9/10] END ...C=700, gamma=scale, kernel=rbf;, score=0.924 total time=   0.4s\n",
      "[CV 10/10] END ..C=700, gamma=scale, kernel=rbf;, score=0.917 total time=   0.5s\n",
      "[CV 1/10] END ...C=800, gamma=0.001, kernel=rbf;, score=0.829 total time=   1.1s\n",
      "[CV 2/10] END ...C=800, gamma=0.001, kernel=rbf;, score=0.968 total time=   1.1s\n",
      "[CV 3/10] END ...C=800, gamma=0.001, kernel=rbf;, score=0.934 total time=   1.2s\n",
      "[CV 4/10] END ...C=800, gamma=0.001, kernel=rbf;, score=0.921 total time=   1.1s\n",
      "[CV 5/10] END ...C=800, gamma=0.001, kernel=rbf;, score=0.895 total time=   1.1s\n",
      "[CV 6/10] END ...C=800, gamma=0.001, kernel=rbf;, score=0.888 total time=   1.1s\n",
      "[CV 7/10] END ...C=800, gamma=0.001, kernel=rbf;, score=0.964 total time=   1.2s\n",
      "[CV 8/10] END ...C=800, gamma=0.001, kernel=rbf;, score=0.979 total time=   1.1s\n",
      "[CV 9/10] END ...C=800, gamma=0.001, kernel=rbf;, score=0.927 total time=   1.1s\n",
      "[CV 10/10] END ..C=800, gamma=0.001, kernel=rbf;, score=0.926 total time=   1.1s\n",
      "[CV 1/10] END ..C=800, gamma=0.0001, kernel=rbf;, score=0.808 total time=   0.4s\n",
      "[CV 2/10] END ..C=800, gamma=0.0001, kernel=rbf;, score=0.961 total time=   0.5s\n",
      "[CV 3/10] END ..C=800, gamma=0.0001, kernel=rbf;, score=0.958 total time=   0.5s\n",
      "[CV 4/10] END ..C=800, gamma=0.0001, kernel=rbf;, score=0.939 total time=   0.5s\n",
      "[CV 5/10] END ..C=800, gamma=0.0001, kernel=rbf;, score=0.928 total time=   0.4s\n",
      "[CV 6/10] END ..C=800, gamma=0.0001, kernel=rbf;, score=0.894 total time=   0.4s\n",
      "[CV 7/10] END ..C=800, gamma=0.0001, kernel=rbf;, score=0.975 total time=   0.5s\n",
      "[CV 8/10] END ..C=800, gamma=0.0001, kernel=rbf;, score=0.985 total time=   0.5s\n",
      "[CV 9/10] END ..C=800, gamma=0.0001, kernel=rbf;, score=0.927 total time=   0.4s\n",
      "[CV 10/10] END .C=800, gamma=0.0001, kernel=rbf;, score=0.918 total time=   0.5s\n",
      "[CV 1/10] END ...C=800, gamma=1e-05, kernel=rbf;, score=0.818 total time=   0.5s\n",
      "[CV 2/10] END ...C=800, gamma=1e-05, kernel=rbf;, score=0.959 total time=   0.6s\n",
      "[CV 3/10] END ...C=800, gamma=1e-05, kernel=rbf;, score=0.947 total time=   0.6s\n",
      "[CV 4/10] END ...C=800, gamma=1e-05, kernel=rbf;, score=0.942 total time=   0.6s\n",
      "[CV 5/10] END ...C=800, gamma=1e-05, kernel=rbf;, score=0.951 total time=   0.6s\n",
      "[CV 6/10] END ...C=800, gamma=1e-05, kernel=rbf;, score=0.901 total time=   0.5s\n",
      "[CV 7/10] END ...C=800, gamma=1e-05, kernel=rbf;, score=0.970 total time=   0.6s\n",
      "[CV 8/10] END ...C=800, gamma=1e-05, kernel=rbf;, score=0.984 total time=   0.6s\n",
      "[CV 9/10] END ...C=800, gamma=1e-05, kernel=rbf;, score=0.906 total time=   0.5s\n",
      "[CV 10/10] END ..C=800, gamma=1e-05, kernel=rbf;, score=0.908 total time=   0.5s\n",
      "[CV 1/10] END ...C=800, gamma=scale, kernel=rbf;, score=0.805 total time=   0.4s\n",
      "[CV 2/10] END ...C=800, gamma=scale, kernel=rbf;, score=0.963 total time=   0.5s\n",
      "[CV 3/10] END ...C=800, gamma=scale, kernel=rbf;, score=0.955 total time=   0.4s\n",
      "[CV 4/10] END ...C=800, gamma=scale, kernel=rbf;, score=0.940 total time=   0.5s\n",
      "[CV 5/10] END ...C=800, gamma=scale, kernel=rbf;, score=0.943 total time=   0.5s\n",
      "[CV 6/10] END ...C=800, gamma=scale, kernel=rbf;, score=0.898 total time=   0.4s\n",
      "[CV 7/10] END ...C=800, gamma=scale, kernel=rbf;, score=0.971 total time=   0.5s\n",
      "[CV 8/10] END ...C=800, gamma=scale, kernel=rbf;, score=0.986 total time=   0.5s\n",
      "[CV 9/10] END ...C=800, gamma=scale, kernel=rbf;, score=0.924 total time=   0.4s\n",
      "[CV 10/10] END ..C=800, gamma=scale, kernel=rbf;, score=0.916 total time=   0.4s\n",
      "[CV 1/10] END ...C=900, gamma=0.001, kernel=rbf;, score=0.830 total time=   1.1s\n",
      "[CV 2/10] END ...C=900, gamma=0.001, kernel=rbf;, score=0.968 total time=   1.1s\n",
      "[CV 3/10] END ...C=900, gamma=0.001, kernel=rbf;, score=0.932 total time=   1.1s\n",
      "[CV 4/10] END ...C=900, gamma=0.001, kernel=rbf;, score=0.921 total time=   1.1s\n",
      "[CV 5/10] END ...C=900, gamma=0.001, kernel=rbf;, score=0.895 total time=   1.1s\n",
      "[CV 6/10] END ...C=900, gamma=0.001, kernel=rbf;, score=0.889 total time=   1.1s\n",
      "[CV 7/10] END ...C=900, gamma=0.001, kernel=rbf;, score=0.964 total time=   1.2s\n",
      "[CV 8/10] END ...C=900, gamma=0.001, kernel=rbf;, score=0.979 total time=   1.2s\n",
      "[CV 9/10] END ...C=900, gamma=0.001, kernel=rbf;, score=0.927 total time=   1.1s\n",
      "[CV 10/10] END ..C=900, gamma=0.001, kernel=rbf;, score=0.927 total time=   1.1s\n",
      "[CV 1/10] END ..C=900, gamma=0.0001, kernel=rbf;, score=0.810 total time=   0.4s\n",
      "[CV 2/10] END ..C=900, gamma=0.0001, kernel=rbf;, score=0.960 total time=   0.5s\n",
      "[CV 3/10] END ..C=900, gamma=0.0001, kernel=rbf;, score=0.960 total time=   0.4s\n",
      "[CV 4/10] END ..C=900, gamma=0.0001, kernel=rbf;, score=0.939 total time=   0.5s\n",
      "[CV 5/10] END ..C=900, gamma=0.0001, kernel=rbf;, score=0.929 total time=   0.4s\n",
      "[CV 6/10] END ..C=900, gamma=0.0001, kernel=rbf;, score=0.894 total time=   0.4s\n",
      "[CV 7/10] END ..C=900, gamma=0.0001, kernel=rbf;, score=0.974 total time=   0.5s\n",
      "[CV 8/10] END ..C=900, gamma=0.0001, kernel=rbf;, score=0.985 total time=   0.5s\n",
      "[CV 9/10] END ..C=900, gamma=0.0001, kernel=rbf;, score=0.926 total time=   0.4s\n",
      "[CV 10/10] END .C=900, gamma=0.0001, kernel=rbf;, score=0.918 total time=   0.5s\n",
      "[CV 1/10] END ...C=900, gamma=1e-05, kernel=rbf;, score=0.816 total time=   0.5s\n",
      "[CV 2/10] END ...C=900, gamma=1e-05, kernel=rbf;, score=0.954 total time=   0.6s\n",
      "[CV 3/10] END ...C=900, gamma=1e-05, kernel=rbf;, score=0.947 total time=   0.6s\n",
      "[CV 4/10] END ...C=900, gamma=1e-05, kernel=rbf;, score=0.943 total time=   0.6s\n",
      "[CV 5/10] END ...C=900, gamma=1e-05, kernel=rbf;, score=0.951 total time=   0.6s\n",
      "[CV 6/10] END ...C=900, gamma=1e-05, kernel=rbf;, score=0.901 total time=   0.5s\n",
      "[CV 7/10] END ...C=900, gamma=1e-05, kernel=rbf;, score=0.970 total time=   0.6s\n",
      "[CV 8/10] END ...C=900, gamma=1e-05, kernel=rbf;, score=0.984 total time=   0.6s\n",
      "[CV 9/10] END ...C=900, gamma=1e-05, kernel=rbf;, score=0.906 total time=   0.5s\n",
      "[CV 10/10] END ..C=900, gamma=1e-05, kernel=rbf;, score=0.908 total time=   0.5s\n",
      "[CV 1/10] END ...C=900, gamma=scale, kernel=rbf;, score=0.801 total time=   0.4s\n",
      "[CV 2/10] END ...C=900, gamma=scale, kernel=rbf;, score=0.964 total time=   0.5s\n",
      "[CV 3/10] END ...C=900, gamma=scale, kernel=rbf;, score=0.954 total time=   0.4s\n",
      "[CV 4/10] END ...C=900, gamma=scale, kernel=rbf;, score=0.939 total time=   0.5s\n",
      "[CV 5/10] END ...C=900, gamma=scale, kernel=rbf;, score=0.945 total time=   0.5s\n",
      "[CV 6/10] END ...C=900, gamma=scale, kernel=rbf;, score=0.898 total time=   0.4s\n",
      "[CV 7/10] END ...C=900, gamma=scale, kernel=rbf;, score=0.972 total time=   0.5s\n",
      "[CV 8/10] END ...C=900, gamma=scale, kernel=rbf;, score=0.986 total time=   0.5s\n",
      "[CV 9/10] END ...C=900, gamma=scale, kernel=rbf;, score=0.923 total time=   0.4s\n",
      "[CV 10/10] END ..C=900, gamma=scale, kernel=rbf;, score=0.915 total time=   0.4s\n",
      "[CV 1/10] END ..C=1000, gamma=0.001, kernel=rbf;, score=0.830 total time=   1.1s\n",
      "[CV 2/10] END ..C=1000, gamma=0.001, kernel=rbf;, score=0.969 total time=   1.1s\n",
      "[CV 3/10] END ..C=1000, gamma=0.001, kernel=rbf;, score=0.932 total time=   1.2s\n",
      "[CV 4/10] END ..C=1000, gamma=0.001, kernel=rbf;, score=0.921 total time=   1.1s\n",
      "[CV 5/10] END ..C=1000, gamma=0.001, kernel=rbf;, score=0.895 total time=   1.1s\n",
      "[CV 6/10] END ..C=1000, gamma=0.001, kernel=rbf;, score=0.890 total time=   1.1s\n",
      "[CV 7/10] END ..C=1000, gamma=0.001, kernel=rbf;, score=0.962 total time=   1.2s\n",
      "[CV 8/10] END ..C=1000, gamma=0.001, kernel=rbf;, score=0.979 total time=   1.2s\n",
      "[CV 9/10] END ..C=1000, gamma=0.001, kernel=rbf;, score=0.926 total time=   1.1s\n",
      "[CV 10/10] END .C=1000, gamma=0.001, kernel=rbf;, score=0.927 total time=   1.1s\n",
      "[CV 1/10] END .C=1000, gamma=0.0001, kernel=rbf;, score=0.811 total time=   0.4s\n",
      "[CV 2/10] END .C=1000, gamma=0.0001, kernel=rbf;, score=0.960 total time=   0.5s\n",
      "[CV 3/10] END .C=1000, gamma=0.0001, kernel=rbf;, score=0.961 total time=   0.5s\n",
      "[CV 4/10] END .C=1000, gamma=0.0001, kernel=rbf;, score=0.939 total time=   0.5s\n",
      "[CV 5/10] END .C=1000, gamma=0.0001, kernel=rbf;, score=0.929 total time=   0.4s\n",
      "[CV 6/10] END .C=1000, gamma=0.0001, kernel=rbf;, score=0.892 total time=   0.4s\n",
      "[CV 7/10] END .C=1000, gamma=0.0001, kernel=rbf;, score=0.974 total time=   0.5s\n",
      "[CV 8/10] END .C=1000, gamma=0.0001, kernel=rbf;, score=0.985 total time=   0.5s\n",
      "[CV 9/10] END .C=1000, gamma=0.0001, kernel=rbf;, score=0.927 total time=   0.4s\n",
      "[CV 10/10] END C=1000, gamma=0.0001, kernel=rbf;, score=0.920 total time=   0.4s\n",
      "[CV 1/10] END ..C=1000, gamma=1e-05, kernel=rbf;, score=0.816 total time=   0.5s\n",
      "[CV 2/10] END ..C=1000, gamma=1e-05, kernel=rbf;, score=0.954 total time=   0.5s\n",
      "[CV 3/10] END ..C=1000, gamma=1e-05, kernel=rbf;, score=0.947 total time=   0.5s\n",
      "[CV 4/10] END ..C=1000, gamma=1e-05, kernel=rbf;, score=0.943 total time=   0.6s\n",
      "[CV 5/10] END ..C=1000, gamma=1e-05, kernel=rbf;, score=0.949 total time=   0.5s\n",
      "[CV 6/10] END ..C=1000, gamma=1e-05, kernel=rbf;, score=0.901 total time=   0.5s\n",
      "[CV 7/10] END ..C=1000, gamma=1e-05, kernel=rbf;, score=0.970 total time=   0.6s\n",
      "[CV 8/10] END ..C=1000, gamma=1e-05, kernel=rbf;, score=0.984 total time=   0.6s\n",
      "[CV 9/10] END ..C=1000, gamma=1e-05, kernel=rbf;, score=0.908 total time=   0.5s\n",
      "[CV 10/10] END .C=1000, gamma=1e-05, kernel=rbf;, score=0.909 total time=   0.5s\n",
      "[CV 1/10] END ..C=1000, gamma=scale, kernel=rbf;, score=0.801 total time=   0.4s\n",
      "[CV 2/10] END ..C=1000, gamma=scale, kernel=rbf;, score=0.964 total time=   0.5s\n",
      "[CV 3/10] END ..C=1000, gamma=scale, kernel=rbf;, score=0.954 total time=   0.4s\n",
      "[CV 4/10] END ..C=1000, gamma=scale, kernel=rbf;, score=0.939 total time=   0.5s\n",
      "[CV 5/10] END ..C=1000, gamma=scale, kernel=rbf;, score=0.946 total time=   0.5s\n",
      "[CV 6/10] END ..C=1000, gamma=scale, kernel=rbf;, score=0.898 total time=   0.4s\n",
      "[CV 7/10] END ..C=1000, gamma=scale, kernel=rbf;, score=0.971 total time=   0.5s\n",
      "[CV 8/10] END ..C=1000, gamma=scale, kernel=rbf;, score=0.986 total time=   0.5s\n",
      "[CV 9/10] END ..C=1000, gamma=scale, kernel=rbf;, score=0.922 total time=   0.4s\n",
      "[CV 10/10] END .C=1000, gamma=scale, kernel=rbf;, score=0.914 total time=   0.4s\n",
      "Best parameters:  {'C': 100, 'gamma': 0.0001, 'kernel': 'rbf'}\n",
      "Best score:  0.9315979700251071\n"
     ]
    }
   ],
   "source": [
    "from sklearn.model_selection import GridSearchCV\n",
    "# defining parameter range\n",
    "param_grid = {'C': [50,100,200,300,400,500,600,700,800,900, 1000], \n",
    "              'gamma': [0.001, 0.0001,0.00001, 'scale'],\n",
    "              'kernel': ['rbf']} \n",
    "svc_cls = SVC()\n",
    "model = GridSearchCV(svc_cls, param_grid, scoring='accuracy', refit = True, cv=10, verbose=3)\n",
    "\n",
    "model.fit(X['train'], Y['train'])\n",
    "print(\"Best parameters: \", model.best_params_)\n",
    "print(\"Best score: \", model.best_score_)\n",
    "# print(model.score(X['test'],Y['test']))\n",
    "svc_cls = model.best_estimator_"
   ]
  },
  {
   "attachments": {},
   "cell_type": "markdown",
   "metadata": {
    "collapsed": false
   },
   "source": [
    "Get prediction from input X."
   ]
  },
  {
   "attachments": {},
   "cell_type": "markdown",
   "metadata": {
    "collapsed": false,
    "pycharm": {
     "name": "#%% md\n"
    }
   },
   "source": [
    "Show accuracy of model. The `display_model_performance` function helps you evaluate your train model's performance."
   ]
  },
  {
   "attachments": {},
   "cell_type": "markdown",
   "metadata": {
    "collapsed": false
   },
   "source": [
    "Plot the confusion matrix."
   ]
  },
  {
   "attachments": {},
   "cell_type": "markdown",
   "metadata": {
    "collapsed": false
   },
   "source": [
    "After training a good model, which has high accuracy, you can evaluate your model by `test` set.  To enchance your model, you can **collect more data and train again**."
   ]
  },
  {
   "cell_type": "code",
   "execution_count": 148,
   "metadata": {
    "collapsed": false,
    "pycharm": {
     "name": "#%%\n"
    }
   },
   "outputs": [],
   "source": [
    "Y_test_preds = svc_cls.predict(X['test'])"
   ]
  },
  {
   "attachments": {},
   "cell_type": "markdown",
   "metadata": {
    "collapsed": false
   },
   "source": [
    "Show the test accuracy."
   ]
  },
  {
   "cell_type": "code",
   "execution_count": 149,
   "metadata": {},
   "outputs": [
    {
     "name": "stdout",
     "output_type": "stream",
     "text": [
      "Model metrics:\n",
      "------------------------------\n",
      "Accuracy: 0.9476\n",
      "Precision: 0.9504\n",
      "Recall: 0.9476\n",
      "F1 Score: 0.9478\n",
      "\n",
      "Model classification report:\n",
      "------------------------------\n",
      "              precision    recall  f1-score   support\n",
      "\n",
      "           0       0.98      0.92      0.95       280\n",
      "           1       0.99      1.00      0.99       280\n",
      "           2       0.86      0.79      0.82       280\n",
      "           3       1.00      0.97      0.99       274\n",
      "           4       1.00      0.99      0.99       280\n",
      "           5       1.00      1.00      1.00       274\n",
      "           6       0.82      0.96      0.89       280\n",
      "\n",
      "    accuracy                           0.95      1948\n",
      "   macro avg       0.95      0.95      0.95      1948\n",
      "weighted avg       0.95      0.95      0.95      1948\n",
      "\n"
     ]
    }
   ],
   "source": [
    "display_model_performance(Y['test'], Y_test_preds, classes=[0, 1, 2,3,4,5,6])"
   ]
  },
  {
   "cell_type": "code",
   "execution_count": 150,
   "metadata": {
    "collapsed": false,
    "pycharm": {
     "name": "#%%\n"
    }
   },
   "outputs": [
    {
     "data": {
      "image/png": "[encoded data removed]",
      "text/plain": [
       "<Figure size 576x432 with 2 Axes>"
      ]
     },
     "metadata": {
      "needs_background": "light"
     },
     "output_type": "display_data"
    }
   ],
   "source": [
    "plot_confusion_matrix(Y_test_preds, Y['test'], labels=[1, 2, 3,4,5,6,7], save_name='TEST_SVM_CONFUSION_MATRIX')"
   ]
  },
  {
   "attachments": {},
   "cell_type": "markdown",
   "metadata": {
    "collapsed": false
   },
   "source": [
    "The results on test set show that the train model **cannot** predict well with class 0. You can **collect more data** or **change arguments in SVM function**."
   ]
  },
  {
   "attachments": {},
   "cell_type": "markdown",
   "metadata": {
    "collapsed": false
   },
   "source": [
    "Save the trained model to use real-time inference."
   ]
  },
  {
   "cell_type": "code",
   "execution_count": 24,
   "metadata": {
    "collapsed": false,
    "pycharm": {
     "name": "#%%\n"
    }
   },
   "outputs": [],
   "source": [
    "pk.dump(svc_cls, open('svc.pkl', 'wb'))"
   ]
  },
  {
   "attachments": {},
   "cell_type": "markdown",
   "metadata": {},
   "source": [
    "## Neural Networks classification"
   ]
  },
  {
   "cell_type": "code",
   "execution_count": 63,
   "metadata": {},
   "outputs": [],
   "source": [
    "import numpy as np\n",
    "from sklearn.neural_network import MLPClassifier\n",
    "from sklearn.metrics import confusion_matrix, accuracy_score "
   ]
  },
  {
   "cell_type": "code",
   "execution_count": 140,
   "metadata": {},
   "outputs": [],
   "source": [
    "NN = MLPClassifier(activation='relu', random_state=1,hidden_layer_sizes=(50,80,50), learning_rate_init=0.001, max_iter=100, early_stopping=True, n_iter_no_change=100)"
   ]
  },
  {
   "cell_type": "code",
   "execution_count": 141,
   "metadata": {},
   "outputs": [
    {
     "name": "stderr",
     "output_type": "stream",
     "text": [
      "c:\\Users\\brian\\anaconda3\\lib\\site-packages\\sklearn\\neural_network\\_multilayer_perceptron.py:692: ConvergenceWarning: Stochastic Optimizer: Maximum iterations (100) reached and the optimization hasn't converged yet.\n",
      "  warnings.warn(\n"
     ]
    },
    {
     "data": {
      "text/plain": [
       "MLPClassifier(early_stopping=True, hidden_layer_sizes=(50, 80, 50),\n",
       "              max_iter=100, n_iter_no_change=100, random_state=1)"
      ]
     },
     "execution_count": 141,
     "metadata": {},
     "output_type": "execute_result"
    }
   ],
   "source": [
    "NN.fit(X['train'], Y['train'])"
   ]
  },
  {
   "cell_type": "code",
   "execution_count": 142,
   "metadata": {},
   "outputs": [
    {
     "name": "stdout",
     "output_type": "stream",
     "text": [
      "Fitting 10 folds for each of 1 candidates, totalling 10 fits\n"
     ]
    },
    {
     "name": "stderr",
     "output_type": "stream",
     "text": [
      "c:\\Users\\brian\\anaconda3\\lib\\site-packages\\sklearn\\neural_network\\_multilayer_perceptron.py:692: ConvergenceWarning: Stochastic Optimizer: Maximum iterations (100) reached and the optimization hasn't converged yet.\n",
      "  warnings.warn(\n"
     ]
    },
    {
     "name": "stdout",
     "output_type": "stream",
     "text": [
      "[CV 1/10] END activation=relu, early_stopping=True, hidden_layer_sizes=(50, 80, 50), max_iter=100, n_iter_no_change=100, random_state=1, solver=adam;, score=0.804 total time=   8.3s\n"
     ]
    },
    {
     "name": "stderr",
     "output_type": "stream",
     "text": [
      "c:\\Users\\brian\\anaconda3\\lib\\site-packages\\sklearn\\neural_network\\_multilayer_perceptron.py:692: ConvergenceWarning: Stochastic Optimizer: Maximum iterations (100) reached and the optimization hasn't converged yet.\n",
      "  warnings.warn(\n"
     ]
    },
    {
     "name": "stdout",
     "output_type": "stream",
     "text": [
      "[CV 2/10] END activation=relu, early_stopping=True, hidden_layer_sizes=(50, 80, 50), max_iter=100, n_iter_no_change=100, random_state=1, solver=adam;, score=0.957 total time=   8.3s\n"
     ]
    },
    {
     "name": "stderr",
     "output_type": "stream",
     "text": [
      "c:\\Users\\brian\\anaconda3\\lib\\site-packages\\sklearn\\neural_network\\_multilayer_perceptron.py:692: ConvergenceWarning: Stochastic Optimizer: Maximum iterations (100) reached and the optimization hasn't converged yet.\n",
      "  warnings.warn(\n"
     ]
    },
    {
     "name": "stdout",
     "output_type": "stream",
     "text": [
      "[CV 3/10] END activation=relu, early_stopping=True, hidden_layer_sizes=(50, 80, 50), max_iter=100, n_iter_no_change=100, random_state=1, solver=adam;, score=0.957 total time=   8.3s\n"
     ]
    },
    {
     "name": "stderr",
     "output_type": "stream",
     "text": [
      "c:\\Users\\brian\\anaconda3\\lib\\site-packages\\sklearn\\neural_network\\_multilayer_perceptron.py:692: ConvergenceWarning: Stochastic Optimizer: Maximum iterations (100) reached and the optimization hasn't converged yet.\n",
      "  warnings.warn(\n"
     ]
    },
    {
     "name": "stdout",
     "output_type": "stream",
     "text": [
      "[CV 4/10] END activation=relu, early_stopping=True, hidden_layer_sizes=(50, 80, 50), max_iter=100, n_iter_no_change=100, random_state=1, solver=adam;, score=0.934 total time=   8.4s\n"
     ]
    },
    {
     "name": "stderr",
     "output_type": "stream",
     "text": [
      "c:\\Users\\brian\\anaconda3\\lib\\site-packages\\sklearn\\neural_network\\_multilayer_perceptron.py:692: ConvergenceWarning: Stochastic Optimizer: Maximum iterations (100) reached and the optimization hasn't converged yet.\n",
      "  warnings.warn(\n"
     ]
    },
    {
     "name": "stdout",
     "output_type": "stream",
     "text": [
      "[CV 5/10] END activation=relu, early_stopping=True, hidden_layer_sizes=(50, 80, 50), max_iter=100, n_iter_no_change=100, random_state=1, solver=adam;, score=0.922 total time=   8.3s\n"
     ]
    },
    {
     "name": "stderr",
     "output_type": "stream",
     "text": [
      "c:\\Users\\brian\\anaconda3\\lib\\site-packages\\sklearn\\neural_network\\_multilayer_perceptron.py:692: ConvergenceWarning: Stochastic Optimizer: Maximum iterations (100) reached and the optimization hasn't converged yet.\n",
      "  warnings.warn(\n"
     ]
    },
    {
     "name": "stdout",
     "output_type": "stream",
     "text": [
      "[CV 6/10] END activation=relu, early_stopping=True, hidden_layer_sizes=(50, 80, 50), max_iter=100, n_iter_no_change=100, random_state=1, solver=adam;, score=0.910 total time=   8.4s\n"
     ]
    },
    {
     "name": "stderr",
     "output_type": "stream",
     "text": [
      "c:\\Users\\brian\\anaconda3\\lib\\site-packages\\sklearn\\neural_network\\_multilayer_perceptron.py:692: ConvergenceWarning: Stochastic Optimizer: Maximum iterations (100) reached and the optimization hasn't converged yet.\n",
      "  warnings.warn(\n"
     ]
    },
    {
     "name": "stdout",
     "output_type": "stream",
     "text": [
      "[CV 7/10] END activation=relu, early_stopping=True, hidden_layer_sizes=(50, 80, 50), max_iter=100, n_iter_no_change=100, random_state=1, solver=adam;, score=0.969 total time=   8.4s\n"
     ]
    },
    {
     "name": "stderr",
     "output_type": "stream",
     "text": [
      "c:\\Users\\brian\\anaconda3\\lib\\site-packages\\sklearn\\neural_network\\_multilayer_perceptron.py:692: ConvergenceWarning: Stochastic Optimizer: Maximum iterations (100) reached and the optimization hasn't converged yet.\n",
      "  warnings.warn(\n"
     ]
    },
    {
     "name": "stdout",
     "output_type": "stream",
     "text": [
      "[CV 8/10] END activation=relu, early_stopping=True, hidden_layer_sizes=(50, 80, 50), max_iter=100, n_iter_no_change=100, random_state=1, solver=adam;, score=0.972 total time=   8.4s\n"
     ]
    },
    {
     "name": "stderr",
     "output_type": "stream",
     "text": [
      "c:\\Users\\brian\\anaconda3\\lib\\site-packages\\sklearn\\neural_network\\_multilayer_perceptron.py:692: ConvergenceWarning: Stochastic Optimizer: Maximum iterations (100) reached and the optimization hasn't converged yet.\n",
      "  warnings.warn(\n"
     ]
    },
    {
     "name": "stdout",
     "output_type": "stream",
     "text": [
      "[CV 9/10] END activation=relu, early_stopping=True, hidden_layer_sizes=(50, 80, 50), max_iter=100, n_iter_no_change=100, random_state=1, solver=adam;, score=0.900 total time=   8.5s\n"
     ]
    },
    {
     "name": "stderr",
     "output_type": "stream",
     "text": [
      "c:\\Users\\brian\\anaconda3\\lib\\site-packages\\sklearn\\neural_network\\_multilayer_perceptron.py:692: ConvergenceWarning: Stochastic Optimizer: Maximum iterations (100) reached and the optimization hasn't converged yet.\n",
      "  warnings.warn(\n"
     ]
    },
    {
     "name": "stdout",
     "output_type": "stream",
     "text": [
      "[CV 10/10] END activation=relu, early_stopping=True, hidden_layer_sizes=(50, 80, 50), max_iter=100, n_iter_no_change=100, random_state=1, solver=adam;, score=0.951 total time=   8.5s\n",
      "Best parameters:  {'activation': 'relu', 'early_stopping': True, 'hidden_layer_sizes': (50, 80, 50), 'max_iter': 100, 'n_iter_no_change': 100, 'random_state': 1, 'solver': 'adam'}\n",
      "Best score:  0.9276083271763221\n"
     ]
    },
    {
     "name": "stderr",
     "output_type": "stream",
     "text": [
      "c:\\Users\\brian\\anaconda3\\lib\\site-packages\\sklearn\\neural_network\\_multilayer_perceptron.py:692: ConvergenceWarning: Stochastic Optimizer: Maximum iterations (100) reached and the optimization hasn't converged yet.\n",
      "  warnings.warn(\n"
     ]
    }
   ],
   "source": [
    "NN = MLPClassifier()\n",
    "param_grid = {\n",
    "    'hidden_layer_sizes': [(50,80,50)],\n",
    "    'activation': ['relu'],\n",
    "    'random_state': [1],\n",
    "    'solver': ['adam'],\n",
    "    'max_iter': [100],\n",
    "    'n_iter_no_change': [100],\n",
    "    'early_stopping': [True]\n",
    "}\n",
    "best_model = GridSearchCV(NN, param_grid, scoring='accuracy', refit = True, cv=10, verbose=3)\n",
    "best_model.fit(X['train'], Y['train'])\n",
    "print(\"Best parameters: \", best_model.best_params_)\n",
    "print(\"Best score: \", best_model.best_score_)\n",
    "NN = best_model.best_estimator_"
   ]
  },
  {
   "cell_type": "code",
   "execution_count": 154,
   "metadata": {},
   "outputs": [
    {
     "name": "stdout",
     "output_type": "stream",
     "text": [
      "Mean accuracy:  0.9661190965092402\n",
      "Iterations:  100\n",
      "Current loss:  0.07721039061824611\n",
      "Best validation score:  0.9849710982658959\n",
      "Number of training samples:  1556400\n",
      "Number of features:  20\n",
      "Number of layers:  5\n",
      "Number of outputs:  7\n",
      "Output activation function:  softmax\n"
     ]
    },
    {
     "data": {
      "text/plain": [
       "<matplotlib.legend.Legend at 0x21b282b0670>"
      ]
     },
     "execution_count": 154,
     "metadata": {},
     "output_type": "execute_result"
    },
    {
     "data": {
      "image/png": "[encoded data removed]",
      "text/plain": [
       "<Figure size 432x288 with 1 Axes>"
      ]
     },
     "metadata": {
      "needs_background": "light"
     },
     "output_type": "display_data"
    }
   ],
   "source": [
    "print(\"Mean accuracy: \", NN.score(X['test'],Y['test']))\n",
    "print(\"Iterations: \", NN.n_iter_)\n",
    "print(\"Current loss: \", NN.loss_)\n",
    "print(\"Best validation score: \", NN.best_validation_score_)\n",
    "print(\"Number of training samples: \", NN.t_)\n",
    "print(\"Number of features: \", NN.n_features_in_)\n",
    "print(\"Number of layers: \", NN.n_layers_)\n",
    "print(\"Number of outputs: \", NN.n_outputs_)\n",
    "print(\"Output activation function: \", NN.out_activation_)\n",
    "plt.plot(NN.loss_curve_, label='loss')\n",
    "plt.plot(NN.validation_scores_, label='accuracy')\n",
    "plt.xlabel('Iterations')\n",
    "plt.legend(loc='upper right')"
   ]
  },
  {
   "cell_type": "code",
   "execution_count": 155,
   "metadata": {},
   "outputs": [],
   "source": [
    "Y_test_preds = NN.predict(X['test'])"
   ]
  },
  {
   "cell_type": "code",
   "execution_count": 156,
   "metadata": {},
   "outputs": [
    {
     "name": "stdout",
     "output_type": "stream",
     "text": [
      "Model metrics:\n",
      "------------------------------\n",
      "Accuracy: 0.9661\n",
      "Precision: 0.9666\n",
      "Recall: 0.9661\n",
      "F1 Score: 0.9662\n",
      "\n",
      "Model classification report:\n",
      "------------------------------\n",
      "              precision    recall  f1-score   support\n",
      "\n",
      "           0       0.98      0.96      0.97       280\n",
      "           1       0.98      0.98      0.98       280\n",
      "           2       0.92      0.96      0.94       280\n",
      "           3       0.96      1.00      0.98       274\n",
      "           4       0.98      0.96      0.97       280\n",
      "           5       1.00      0.96      0.98       274\n",
      "           6       0.95      0.94      0.94       280\n",
      "\n",
      "    accuracy                           0.97      1948\n",
      "   macro avg       0.97      0.97      0.97      1948\n",
      "weighted avg       0.97      0.97      0.97      1948\n",
      "\n"
     ]
    },
    {
     "data": {
      "image/png": "[encoded data removed]",
      "text/plain": [
       "<Figure size 576x432 with 2 Axes>"
      ]
     },
     "metadata": {
      "needs_background": "light"
     },
     "output_type": "display_data"
    }
   ],
   "source": [
    "display_model_performance(Y['test'], Y_test_preds, classes=[0, 1, 2,3,4,5,6])\n",
    "plot_confusion_matrix(Y_test_preds, Y['test'], labels=[1, 2, 3,4,5,6,7], save_name='TEST_NN_CONFUSION_MATRIX')"
   ]
  },
  {
   "cell_type": "code",
   "execution_count": 152,
   "metadata": {},
   "outputs": [],
   "source": [
    "pk.dump(NN, open('nn.pkl', 'wb'))"
   ]
  }
 ],
 "metadata": {
  "kernelspec": {
   "display_name": "Python 3",
   "language": "python",
   "name": "python3"
  },
  "language_info": {
   "codemirror_mode": {
    "name": "ipython",
    "version": 3
   },
   "file_extension": ".py",
   "mimetype": "text/x-python",
   "name": "python",
   "nbconvert_exporter": "python",
   "pygments_lexer": "ipython3",
   "version": "3.9.12"
  }
 },
 "nbformat": 4,
 "nbformat_minor": 0
}
